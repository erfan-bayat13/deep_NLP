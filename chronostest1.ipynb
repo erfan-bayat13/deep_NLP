{
  "nbformat": 4,
  "nbformat_minor": 0,
  "metadata": {
    "colab": {
      "provenance": [],
      "gpuType": "T4",
      "include_colab_link": true
    },
    "kernelspec": {
      "name": "python3",
      "display_name": "Python 3"
    },
    "language_info": {
      "name": "python"
    },
    "accelerator": "GPU"
  },
  "cells": [
    {
      "cell_type": "markdown",
      "metadata": {
        "id": "view-in-github",
        "colab_type": "text"
      },
      "source": [
        "<a href=\"https://colab.research.google.com/github/erfan-bayat13/deep_NLP/blob/main/chronostest1.ipynb\" target=\"_parent\"><img src=\"https://colab.research.google.com/assets/colab-badge.svg\" alt=\"Open In Colab\"/></a>"
      ]
    },
    {
      "source": [
        "!pip install gluonts typer accelerate typer_config triton"
      ],
      "cell_type": "code",
      "metadata": {
        "colab": {
          "base_uri": "https://localhost:8080/"
        },
        "id": "NdxMvV5qemcs",
        "outputId": "4da4fc78-a674-4597-fc8f-8d781381dfeb"
      },
      "execution_count": 1,
      "outputs": [
        {
          "output_type": "stream",
          "name": "stdout",
          "text": [
            "Collecting gluonts\n",
            "  Downloading gluonts-0.16.0-py3-none-any.whl.metadata (9.8 kB)\n",
            "Requirement already satisfied: typer in /usr/local/lib/python3.10/dist-packages (0.15.0)\n",
            "Requirement already satisfied: accelerate in /usr/local/lib/python3.10/dist-packages (1.1.1)\n",
            "Collecting typer_config\n",
            "  Downloading typer_config-1.4.2-py3-none-any.whl.metadata (4.3 kB)\n",
            "Collecting triton\n",
            "  Downloading triton-3.1.0-cp310-cp310-manylinux_2_17_x86_64.manylinux2014_x86_64.whl.metadata (1.3 kB)\n",
            "Requirement already satisfied: numpy<2.2,>=1.16 in /usr/local/lib/python3.10/dist-packages (from gluonts) (1.26.4)\n",
            "Requirement already satisfied: pandas<3,>=1.0 in /usr/local/lib/python3.10/dist-packages (from gluonts) (2.2.2)\n",
            "Requirement already satisfied: pydantic<3,>=1.7 in /usr/local/lib/python3.10/dist-packages (from gluonts) (2.10.3)\n",
            "Requirement already satisfied: tqdm~=4.23 in /usr/local/lib/python3.10/dist-packages (from gluonts) (4.66.6)\n",
            "Requirement already satisfied: toolz~=0.10 in /usr/local/lib/python3.10/dist-packages (from gluonts) (0.12.1)\n",
            "Requirement already satisfied: typing-extensions~=4.0 in /usr/local/lib/python3.10/dist-packages (from gluonts) (4.12.2)\n",
            "Requirement already satisfied: click>=8.0.0 in /usr/local/lib/python3.10/dist-packages (from typer) (8.1.7)\n",
            "Requirement already satisfied: shellingham>=1.3.0 in /usr/local/lib/python3.10/dist-packages (from typer) (1.5.4)\n",
            "Requirement already satisfied: rich>=10.11.0 in /usr/local/lib/python3.10/dist-packages (from typer) (13.9.4)\n",
            "Requirement already satisfied: huggingface-hub>=0.21.0 in /usr/local/lib/python3.10/dist-packages (from accelerate) (0.26.3)\n",
            "Requirement already satisfied: packaging>=20.0 in /usr/local/lib/python3.10/dist-packages (from accelerate) (24.2)\n",
            "Requirement already satisfied: psutil in /usr/local/lib/python3.10/dist-packages (from accelerate) (5.9.5)\n",
            "Requirement already satisfied: pyyaml in /usr/local/lib/python3.10/dist-packages (from accelerate) (6.0.2)\n",
            "Requirement already satisfied: safetensors>=0.4.3 in /usr/local/lib/python3.10/dist-packages (from accelerate) (0.4.5)\n",
            "Requirement already satisfied: torch>=1.10.0 in /usr/local/lib/python3.10/dist-packages (from accelerate) (2.5.1+cu121)\n",
            "Requirement already satisfied: filelock in /usr/local/lib/python3.10/dist-packages (from triton) (3.16.1)\n",
            "Requirement already satisfied: fsspec>=2023.5.0 in /usr/local/lib/python3.10/dist-packages (from huggingface-hub>=0.21.0->accelerate) (2024.10.0)\n",
            "Requirement already satisfied: requests in /usr/local/lib/python3.10/dist-packages (from huggingface-hub>=0.21.0->accelerate) (2.32.3)\n",
            "Requirement already satisfied: python-dateutil>=2.8.2 in /usr/local/lib/python3.10/dist-packages (from pandas<3,>=1.0->gluonts) (2.8.2)\n",
            "Requirement already satisfied: pytz>=2020.1 in /usr/local/lib/python3.10/dist-packages (from pandas<3,>=1.0->gluonts) (2024.2)\n",
            "Requirement already satisfied: tzdata>=2022.7 in /usr/local/lib/python3.10/dist-packages (from pandas<3,>=1.0->gluonts) (2024.2)\n",
            "Requirement already satisfied: annotated-types>=0.6.0 in /usr/local/lib/python3.10/dist-packages (from pydantic<3,>=1.7->gluonts) (0.7.0)\n",
            "Requirement already satisfied: pydantic-core==2.27.1 in /usr/local/lib/python3.10/dist-packages (from pydantic<3,>=1.7->gluonts) (2.27.1)\n",
            "Requirement already satisfied: markdown-it-py>=2.2.0 in /usr/local/lib/python3.10/dist-packages (from rich>=10.11.0->typer) (3.0.0)\n",
            "Requirement already satisfied: pygments<3.0.0,>=2.13.0 in /usr/local/lib/python3.10/dist-packages (from rich>=10.11.0->typer) (2.18.0)\n",
            "Requirement already satisfied: networkx in /usr/local/lib/python3.10/dist-packages (from torch>=1.10.0->accelerate) (3.4.2)\n",
            "Requirement already satisfied: jinja2 in /usr/local/lib/python3.10/dist-packages (from torch>=1.10.0->accelerate) (3.1.4)\n",
            "Requirement already satisfied: sympy==1.13.1 in /usr/local/lib/python3.10/dist-packages (from torch>=1.10.0->accelerate) (1.13.1)\n",
            "Requirement already satisfied: mpmath<1.4,>=1.1.0 in /usr/local/lib/python3.10/dist-packages (from sympy==1.13.1->torch>=1.10.0->accelerate) (1.3.0)\n",
            "Requirement already satisfied: mdurl~=0.1 in /usr/local/lib/python3.10/dist-packages (from markdown-it-py>=2.2.0->rich>=10.11.0->typer) (0.1.2)\n",
            "Requirement already satisfied: six>=1.5 in /usr/local/lib/python3.10/dist-packages (from python-dateutil>=2.8.2->pandas<3,>=1.0->gluonts) (1.16.0)\n",
            "Requirement already satisfied: MarkupSafe>=2.0 in /usr/local/lib/python3.10/dist-packages (from jinja2->torch>=1.10.0->accelerate) (3.0.2)\n",
            "Requirement already satisfied: charset-normalizer<4,>=2 in /usr/local/lib/python3.10/dist-packages (from requests->huggingface-hub>=0.21.0->accelerate) (3.4.0)\n",
            "Requirement already satisfied: idna<4,>=2.5 in /usr/local/lib/python3.10/dist-packages (from requests->huggingface-hub>=0.21.0->accelerate) (3.10)\n",
            "Requirement already satisfied: urllib3<3,>=1.21.1 in /usr/local/lib/python3.10/dist-packages (from requests->huggingface-hub>=0.21.0->accelerate) (2.2.3)\n",
            "Requirement already satisfied: certifi>=2017.4.17 in /usr/local/lib/python3.10/dist-packages (from requests->huggingface-hub>=0.21.0->accelerate) (2024.8.30)\n",
            "Downloading gluonts-0.16.0-py3-none-any.whl (1.5 MB)\n",
            "\u001b[2K   \u001b[90m━━━━━━━━━━━━━━━━━━━━━━━━━━━━━━━━━━━━━━━━\u001b[0m \u001b[32m1.5/1.5 MB\u001b[0m \u001b[31m19.9 MB/s\u001b[0m eta \u001b[36m0:00:00\u001b[0m\n",
            "\u001b[?25hDownloading typer_config-1.4.2-py3-none-any.whl (11 kB)\n",
            "Downloading triton-3.1.0-cp310-cp310-manylinux_2_17_x86_64.manylinux2014_x86_64.whl (209.5 MB)\n",
            "\u001b[2K   \u001b[90m━━━━━━━━━━━━━━━━━━━━━━━━━━━━━━━━━━━━━━━━\u001b[0m \u001b[32m209.5/209.5 MB\u001b[0m \u001b[31m4.9 MB/s\u001b[0m eta \u001b[36m0:00:00\u001b[0m\n",
            "\u001b[?25hInstalling collected packages: triton, gluonts, typer_config\n",
            "Successfully installed gluonts-0.16.0 triton-3.1.0 typer_config-1.4.2\n"
          ]
        }
      ]
    },
    {
      "cell_type": "code",
      "source": [
        "!pip install datasets"
      ],
      "metadata": {
        "colab": {
          "base_uri": "https://localhost:8080/"
        },
        "id": "40S1un9Z79BH",
        "outputId": "1c652800-71f5-4170-87da-439f5a12e9b7"
      },
      "execution_count": 2,
      "outputs": [
        {
          "output_type": "stream",
          "name": "stdout",
          "text": [
            "Collecting datasets\n",
            "  Downloading datasets-3.1.0-py3-none-any.whl.metadata (20 kB)\n",
            "Requirement already satisfied: filelock in /usr/local/lib/python3.10/dist-packages (from datasets) (3.16.1)\n",
            "Requirement already satisfied: numpy>=1.17 in /usr/local/lib/python3.10/dist-packages (from datasets) (1.26.4)\n",
            "Requirement already satisfied: pyarrow>=15.0.0 in /usr/local/lib/python3.10/dist-packages (from datasets) (17.0.0)\n",
            "Collecting dill<0.3.9,>=0.3.0 (from datasets)\n",
            "  Downloading dill-0.3.8-py3-none-any.whl.metadata (10 kB)\n",
            "Requirement already satisfied: pandas in /usr/local/lib/python3.10/dist-packages (from datasets) (2.2.2)\n",
            "Requirement already satisfied: requests>=2.32.2 in /usr/local/lib/python3.10/dist-packages (from datasets) (2.32.3)\n",
            "Requirement already satisfied: tqdm>=4.66.3 in /usr/local/lib/python3.10/dist-packages (from datasets) (4.66.6)\n",
            "Collecting xxhash (from datasets)\n",
            "  Downloading xxhash-3.5.0-cp310-cp310-manylinux_2_17_x86_64.manylinux2014_x86_64.whl.metadata (12 kB)\n",
            "Collecting multiprocess<0.70.17 (from datasets)\n",
            "  Downloading multiprocess-0.70.16-py310-none-any.whl.metadata (7.2 kB)\n",
            "Collecting fsspec<=2024.9.0,>=2023.1.0 (from fsspec[http]<=2024.9.0,>=2023.1.0->datasets)\n",
            "  Downloading fsspec-2024.9.0-py3-none-any.whl.metadata (11 kB)\n",
            "Requirement already satisfied: aiohttp in /usr/local/lib/python3.10/dist-packages (from datasets) (3.11.9)\n",
            "Requirement already satisfied: huggingface-hub>=0.23.0 in /usr/local/lib/python3.10/dist-packages (from datasets) (0.26.3)\n",
            "Requirement already satisfied: packaging in /usr/local/lib/python3.10/dist-packages (from datasets) (24.2)\n",
            "Requirement already satisfied: pyyaml>=5.1 in /usr/local/lib/python3.10/dist-packages (from datasets) (6.0.2)\n",
            "Requirement already satisfied: aiohappyeyeballs>=2.3.0 in /usr/local/lib/python3.10/dist-packages (from aiohttp->datasets) (2.4.4)\n",
            "Requirement already satisfied: aiosignal>=1.1.2 in /usr/local/lib/python3.10/dist-packages (from aiohttp->datasets) (1.3.1)\n",
            "Requirement already satisfied: async-timeout<6.0,>=4.0 in /usr/local/lib/python3.10/dist-packages (from aiohttp->datasets) (4.0.3)\n",
            "Requirement already satisfied: attrs>=17.3.0 in /usr/local/lib/python3.10/dist-packages (from aiohttp->datasets) (24.2.0)\n",
            "Requirement already satisfied: frozenlist>=1.1.1 in /usr/local/lib/python3.10/dist-packages (from aiohttp->datasets) (1.5.0)\n",
            "Requirement already satisfied: multidict<7.0,>=4.5 in /usr/local/lib/python3.10/dist-packages (from aiohttp->datasets) (6.1.0)\n",
            "Requirement already satisfied: propcache>=0.2.0 in /usr/local/lib/python3.10/dist-packages (from aiohttp->datasets) (0.2.1)\n",
            "Requirement already satisfied: yarl<2.0,>=1.17.0 in /usr/local/lib/python3.10/dist-packages (from aiohttp->datasets) (1.18.3)\n",
            "Requirement already satisfied: typing-extensions>=3.7.4.3 in /usr/local/lib/python3.10/dist-packages (from huggingface-hub>=0.23.0->datasets) (4.12.2)\n",
            "Requirement already satisfied: charset-normalizer<4,>=2 in /usr/local/lib/python3.10/dist-packages (from requests>=2.32.2->datasets) (3.4.0)\n",
            "Requirement already satisfied: idna<4,>=2.5 in /usr/local/lib/python3.10/dist-packages (from requests>=2.32.2->datasets) (3.10)\n",
            "Requirement already satisfied: urllib3<3,>=1.21.1 in /usr/local/lib/python3.10/dist-packages (from requests>=2.32.2->datasets) (2.2.3)\n",
            "Requirement already satisfied: certifi>=2017.4.17 in /usr/local/lib/python3.10/dist-packages (from requests>=2.32.2->datasets) (2024.8.30)\n",
            "Requirement already satisfied: python-dateutil>=2.8.2 in /usr/local/lib/python3.10/dist-packages (from pandas->datasets) (2.8.2)\n",
            "Requirement already satisfied: pytz>=2020.1 in /usr/local/lib/python3.10/dist-packages (from pandas->datasets) (2024.2)\n",
            "Requirement already satisfied: tzdata>=2022.7 in /usr/local/lib/python3.10/dist-packages (from pandas->datasets) (2024.2)\n",
            "Requirement already satisfied: six>=1.5 in /usr/local/lib/python3.10/dist-packages (from python-dateutil>=2.8.2->pandas->datasets) (1.16.0)\n",
            "Downloading datasets-3.1.0-py3-none-any.whl (480 kB)\n",
            "\u001b[2K   \u001b[90m━━━━━━━━━━━━━━━━━━━━━━━━━━━━━━━━━━━━━━━━\u001b[0m \u001b[32m480.6/480.6 kB\u001b[0m \u001b[31m12.5 MB/s\u001b[0m eta \u001b[36m0:00:00\u001b[0m\n",
            "\u001b[?25hDownloading dill-0.3.8-py3-none-any.whl (116 kB)\n",
            "\u001b[2K   \u001b[90m━━━━━━━━━━━━━━━━━━━━━━━━━━━━━━━━━━━━━━━━\u001b[0m \u001b[32m116.3/116.3 kB\u001b[0m \u001b[31m9.8 MB/s\u001b[0m eta \u001b[36m0:00:00\u001b[0m\n",
            "\u001b[?25hDownloading fsspec-2024.9.0-py3-none-any.whl (179 kB)\n",
            "\u001b[2K   \u001b[90m━━━━━━━━━━━━━━━━━━━━━━━━━━━━━━━━━━━━━━━━\u001b[0m \u001b[32m179.3/179.3 kB\u001b[0m \u001b[31m15.2 MB/s\u001b[0m eta \u001b[36m0:00:00\u001b[0m\n",
            "\u001b[?25hDownloading multiprocess-0.70.16-py310-none-any.whl (134 kB)\n",
            "\u001b[2K   \u001b[90m━━━━━━━━━━━━━━━━━━━━━━━━━━━━━━━━━━━━━━━━\u001b[0m \u001b[32m134.8/134.8 kB\u001b[0m \u001b[31m12.5 MB/s\u001b[0m eta \u001b[36m0:00:00\u001b[0m\n",
            "\u001b[?25hDownloading xxhash-3.5.0-cp310-cp310-manylinux_2_17_x86_64.manylinux2014_x86_64.whl (194 kB)\n",
            "\u001b[2K   \u001b[90m━━━━━━━━━━━━━━━━━━━━━━━━━━━━━━━━━━━━━━━━\u001b[0m \u001b[32m194.1/194.1 kB\u001b[0m \u001b[31m17.0 MB/s\u001b[0m eta \u001b[36m0:00:00\u001b[0m\n",
            "\u001b[?25hInstalling collected packages: xxhash, fsspec, dill, multiprocess, datasets\n",
            "  Attempting uninstall: fsspec\n",
            "    Found existing installation: fsspec 2024.10.0\n",
            "    Uninstalling fsspec-2024.10.0:\n",
            "      Successfully uninstalled fsspec-2024.10.0\n",
            "\u001b[31mERROR: pip's dependency resolver does not currently take into account all the packages that are installed. This behaviour is the source of the following dependency conflicts.\n",
            "gcsfs 2024.10.0 requires fsspec==2024.10.0, but you have fsspec 2024.9.0 which is incompatible.\u001b[0m\u001b[31m\n",
            "\u001b[0mSuccessfully installed datasets-3.1.0 dill-0.3.8 fsspec-2024.9.0 multiprocess-0.70.16 xxhash-3.5.0\n"
          ]
        }
      ]
    },
    {
      "cell_type": "code",
      "execution_count": 3,
      "metadata": {
        "colab": {
          "base_uri": "https://localhost:8080/"
        },
        "id": "7Wd-amlddG3r",
        "outputId": "bcea27bd-378a-424f-bf1c-d2ceaa19322f"
      },
      "outputs": [
        {
          "output_type": "stream",
          "name": "stdout",
          "text": [
            "Cloning into 'chronos-forecasting'...\n",
            "remote: Enumerating objects: 422, done.\u001b[K\n",
            "remote: Counting objects: 100% (238/238), done.\u001b[K\n",
            "remote: Compressing objects: 100% (138/138), done.\u001b[K\n",
            "remote: Total 422 (delta 165), reused 121 (delta 100), pack-reused 184 (from 1)\u001b[K\n",
            "Receiving objects: 100% (422/422), 993.35 KiB | 3.01 MiB/s, done.\n",
            "Resolving deltas: 100% (186/186), done.\n"
          ]
        }
      ],
      "source": [
        "!git clone --branch mechanistic-extention https://github.com/erfan-bayat13/chronos-forecasting.git"
      ]
    },
    {
      "cell_type": "code",
      "source": [
        "!mkdir data/configs\n",
        "!cp chronos-forecasting/scripts/training/configs/chronos-t5-mini.yaml data/configs/bob.yaml"
      ],
      "metadata": {
        "id": "NbMXAo3pihAm"
      },
      "execution_count": null,
      "outputs": []
    },
    {
      "cell_type": "code",
      "source": [
        "!cp /content/data/configs/bob.yaml data/configs/bob2.yaml"
      ],
      "metadata": {
        "id": "FWMECScuobb2"
      },
      "execution_count": null,
      "outputs": []
    },
    {
      "cell_type": "code",
      "source": [
        "!pip install -e /content/chronos-forecasting"
      ],
      "metadata": {
        "colab": {
          "base_uri": "https://localhost:8080/"
        },
        "id": "drw53GMB_MRf",
        "outputId": "c428a255-34de-496f-f4a0-1a1f641b2506"
      },
      "execution_count": 4,
      "outputs": [
        {
          "output_type": "stream",
          "name": "stdout",
          "text": [
            "Obtaining file:///content/chronos-forecasting\n",
            "  Installing build dependencies ... \u001b[?25l\u001b[?25hdone\n",
            "  Checking if build backend supports build_editable ... \u001b[?25l\u001b[?25hdone\n",
            "  Getting requirements to build editable ... \u001b[?25l\u001b[?25hdone\n",
            "  Installing backend dependencies ... \u001b[?25l\u001b[?25hdone\n",
            "  Preparing editable metadata (pyproject.toml) ... \u001b[?25l\u001b[?25hdone\n",
            "Collecting accelerate<1,>=0.32 (from chronos-forecasting==1.3.0)\n",
            "  Downloading accelerate-0.34.2-py3-none-any.whl.metadata (19 kB)\n",
            "Requirement already satisfied: torch<2.6,>=2.0 in /usr/local/lib/python3.10/dist-packages (from chronos-forecasting==1.3.0) (2.5.1+cu121)\n",
            "Requirement already satisfied: transformers<4.48,>=4.30 in /usr/local/lib/python3.10/dist-packages (from chronos-forecasting==1.3.0) (4.46.3)\n",
            "Requirement already satisfied: numpy<3.0.0,>=1.17 in /usr/local/lib/python3.10/dist-packages (from accelerate<1,>=0.32->chronos-forecasting==1.3.0) (1.26.4)\n",
            "Requirement already satisfied: packaging>=20.0 in /usr/local/lib/python3.10/dist-packages (from accelerate<1,>=0.32->chronos-forecasting==1.3.0) (24.2)\n",
            "Requirement already satisfied: psutil in /usr/local/lib/python3.10/dist-packages (from accelerate<1,>=0.32->chronos-forecasting==1.3.0) (5.9.5)\n",
            "Requirement already satisfied: pyyaml in /usr/local/lib/python3.10/dist-packages (from accelerate<1,>=0.32->chronos-forecasting==1.3.0) (6.0.2)\n",
            "Requirement already satisfied: huggingface-hub>=0.21.0 in /usr/local/lib/python3.10/dist-packages (from accelerate<1,>=0.32->chronos-forecasting==1.3.0) (0.26.3)\n",
            "Requirement already satisfied: safetensors>=0.4.3 in /usr/local/lib/python3.10/dist-packages (from accelerate<1,>=0.32->chronos-forecasting==1.3.0) (0.4.5)\n",
            "Requirement already satisfied: filelock in /usr/local/lib/python3.10/dist-packages (from torch<2.6,>=2.0->chronos-forecasting==1.3.0) (3.16.1)\n",
            "Requirement already satisfied: typing-extensions>=4.8.0 in /usr/local/lib/python3.10/dist-packages (from torch<2.6,>=2.0->chronos-forecasting==1.3.0) (4.12.2)\n",
            "Requirement already satisfied: networkx in /usr/local/lib/python3.10/dist-packages (from torch<2.6,>=2.0->chronos-forecasting==1.3.0) (3.4.2)\n",
            "Requirement already satisfied: jinja2 in /usr/local/lib/python3.10/dist-packages (from torch<2.6,>=2.0->chronos-forecasting==1.3.0) (3.1.4)\n",
            "Requirement already satisfied: fsspec in /usr/local/lib/python3.10/dist-packages (from torch<2.6,>=2.0->chronos-forecasting==1.3.0) (2024.9.0)\n",
            "Requirement already satisfied: sympy==1.13.1 in /usr/local/lib/python3.10/dist-packages (from torch<2.6,>=2.0->chronos-forecasting==1.3.0) (1.13.1)\n",
            "Requirement already satisfied: mpmath<1.4,>=1.1.0 in /usr/local/lib/python3.10/dist-packages (from sympy==1.13.1->torch<2.6,>=2.0->chronos-forecasting==1.3.0) (1.3.0)\n",
            "Requirement already satisfied: regex!=2019.12.17 in /usr/local/lib/python3.10/dist-packages (from transformers<4.48,>=4.30->chronos-forecasting==1.3.0) (2024.9.11)\n",
            "Requirement already satisfied: requests in /usr/local/lib/python3.10/dist-packages (from transformers<4.48,>=4.30->chronos-forecasting==1.3.0) (2.32.3)\n",
            "Requirement already satisfied: tokenizers<0.21,>=0.20 in /usr/local/lib/python3.10/dist-packages (from transformers<4.48,>=4.30->chronos-forecasting==1.3.0) (0.20.3)\n",
            "Requirement already satisfied: tqdm>=4.27 in /usr/local/lib/python3.10/dist-packages (from transformers<4.48,>=4.30->chronos-forecasting==1.3.0) (4.66.6)\n",
            "Requirement already satisfied: MarkupSafe>=2.0 in /usr/local/lib/python3.10/dist-packages (from jinja2->torch<2.6,>=2.0->chronos-forecasting==1.3.0) (3.0.2)\n",
            "Requirement already satisfied: charset-normalizer<4,>=2 in /usr/local/lib/python3.10/dist-packages (from requests->transformers<4.48,>=4.30->chronos-forecasting==1.3.0) (3.4.0)\n",
            "Requirement already satisfied: idna<4,>=2.5 in /usr/local/lib/python3.10/dist-packages (from requests->transformers<4.48,>=4.30->chronos-forecasting==1.3.0) (3.10)\n",
            "Requirement already satisfied: urllib3<3,>=1.21.1 in /usr/local/lib/python3.10/dist-packages (from requests->transformers<4.48,>=4.30->chronos-forecasting==1.3.0) (2.2.3)\n",
            "Requirement already satisfied: certifi>=2017.4.17 in /usr/local/lib/python3.10/dist-packages (from requests->transformers<4.48,>=4.30->chronos-forecasting==1.3.0) (2024.8.30)\n",
            "Downloading accelerate-0.34.2-py3-none-any.whl (324 kB)\n",
            "\u001b[2K   \u001b[90m━━━━━━━━━━━━━━━━━━━━━━━━━━━━━━━━━━━━━━━━\u001b[0m \u001b[32m324.4/324.4 kB\u001b[0m \u001b[31m8.9 MB/s\u001b[0m eta \u001b[36m0:00:00\u001b[0m\n",
            "\u001b[?25hBuilding wheels for collected packages: chronos-forecasting\n",
            "  Building editable for chronos-forecasting (pyproject.toml) ... \u001b[?25l\u001b[?25hdone\n",
            "  Created wheel for chronos-forecasting: filename=chronos_forecasting-1.3.0-py3-none-any.whl size=14956 sha256=c6dbfcf17a949036d9ea3ef1800403264470936c42d540086e9700e99bbe33b4\n",
            "  Stored in directory: /tmp/pip-ephem-wheel-cache-4gepma_2/wheels/ba/d3/d9/895a35f5c2d461dabbd8d388a3dd3c35f4f42bc8be53e1f22c\n",
            "Successfully built chronos-forecasting\n",
            "Installing collected packages: accelerate, chronos-forecasting\n",
            "  Attempting uninstall: accelerate\n",
            "    Found existing installation: accelerate 1.1.1\n",
            "    Uninstalling accelerate-1.1.1:\n",
            "      Successfully uninstalled accelerate-1.1.1\n",
            "Successfully installed accelerate-0.34.2 chronos-forecasting-1.3.0\n"
          ]
        }
      ]
    },
    {
      "cell_type": "code",
      "source": [
        "!cp chronos-forecasting/scripts/training/configs/chronos-t5-mini.yaml bob.yaml"
      ],
      "metadata": {
        "id": "hidMpylo0oFe"
      },
      "execution_count": 5,
      "outputs": []
    },
    {
      "cell_type": "code",
      "source": [
        "import tqdm"
      ],
      "metadata": {
        "id": "PkJjMl178xXY"
      },
      "execution_count": 5,
      "outputs": []
    },
    {
      "cell_type": "code",
      "source": [
        "!python3 chronos-forecasting/scripts/training/data_generation.py"
      ],
      "metadata": {
        "colab": {
          "base_uri": "https://localhost:8080/"
        },
        "id": "ujsv3LhL0HXG",
        "outputId": "00e7f2d2-a26f-49f8-c30d-59bfffbc692d"
      },
      "execution_count": 8,
      "outputs": [
        {
          "output_type": "stream",
          "name": "stdout",
          "text": [
            "Loading source datasets for TSMixup...\n",
            "\rLoading datasets:   0% 0/4 [00:00<?, ?it/s]\r                                           \r\n",
            "Loading dataset: electricity_15min\n",
            "Loaded 370 series from electricity_15min\n",
            "                                                   \n",
            "Loading dataset: m4_hourly\n",
            "Loading datasets:  25% 1/4 [00:25<01:16, 25.57s/it]\n",
            "train-00000-of-00001.parquet: 100% 1.34M/1.34M [00:00<00:00, 14.1MB/s]\n",
            "\n",
            "Generating train split: 100% 414/414 [00:00<00:00, 11563.87 examples/s]\n",
            "Loaded 414 series from m4_hourly\n",
            "                                                   \n",
            "Loading dataset: monash_traffic\n",
            "Loading datasets:  50% 2/4 [00:29<00:25, 12.67s/it]\n",
            "train-00000-of-00001.parquet:   0% 0.00/52.7M [00:00<?, ?B/s]\u001b[A\n",
            "train-00000-of-00001.parquet:  20% 10.5M/52.7M [00:00<00:01, 33.7MB/s]\u001b[A\n",
            "train-00000-of-00001.parquet:  40% 21.0M/52.7M [00:00<00:00, 38.8MB/s]\u001b[A\n",
            "train-00000-of-00001.parquet:  60% 31.5M/52.7M [00:00<00:00, 40.1MB/s]\u001b[A\n",
            "train-00000-of-00001.parquet:  80% 41.9M/52.7M [00:01<00:00, 41.0MB/s]\u001b[A\n",
            "train-00000-of-00001.parquet: 100% 52.7M/52.7M [00:01<00:00, 40.3MB/s]\n",
            "\n",
            "Generating train split:   0% 0/862 [00:00<?, ? examples/s]\u001b[A\n",
            "Generating train split: 100% 862/862 [00:00<00:00, 914.13 examples/s]\n",
            "Loaded 862 series from monash_traffic\n",
            "                                                   \n",
            "Loading dataset: solar_1h\n",
            "Loading datasets:  75% 3/4 [00:41<00:12, 12.63s/it]\n",
            "train-00000-of-00001.parquet:   0% 0.00/125M [00:00<?, ?B/s]\u001b[A\n",
            "train-00000-of-00001.parquet:   8% 10.5M/125M [00:00<00:04, 24.3MB/s]\u001b[A\n",
            "train-00000-of-00001.parquet:  17% 21.0M/125M [00:00<00:03, 32.5MB/s]\u001b[A\n",
            "train-00000-of-00001.parquet:  25% 31.5M/125M [00:00<00:02, 36.4MB/s]\u001b[A\n",
            "train-00000-of-00001.parquet:  34% 41.9M/125M [00:01<00:02, 38.5MB/s]\u001b[A\n",
            "train-00000-of-00001.parquet:  42% 52.4M/125M [00:01<00:01, 40.2MB/s]\u001b[A\n",
            "train-00000-of-00001.parquet:  51% 62.9M/125M [00:01<00:01, 40.6MB/s]\u001b[A\n",
            "train-00000-of-00001.parquet:  59% 73.4M/125M [00:01<00:01, 41.2MB/s]\u001b[A\n",
            "train-00000-of-00001.parquet:  67% 83.9M/125M [00:02<00:00, 41.5MB/s]\u001b[A\n",
            "train-00000-of-00001.parquet:  76% 94.4M/125M [00:02<00:00, 41.8MB/s]\u001b[A\n",
            "train-00000-of-00001.parquet:  84% 105M/125M [00:02<00:00, 42.2MB/s] \u001b[A\n",
            "train-00000-of-00001.parquet:  93% 115M/125M [00:02<00:00, 42.3MB/s]\u001b[A\n",
            "train-00000-of-00001.parquet: 100% 125M/125M [00:03<00:00, 39.9MB/s]\n",
            "\n",
            "Generating train split:   0% 0/5166 [00:00<?, ? examples/s]\u001b[A\n",
            "Generating train split:  19% 1000/5166 [00:00<00:02, 1614.45 examples/s]\u001b[A\n",
            "Generating train split:  39% 2000/5166 [00:01<00:01, 1820.28 examples/s]\u001b[A\n",
            "Generating train split:  58% 3000/5166 [00:01<00:01, 2015.24 examples/s]\u001b[A\n",
            "Generating train split:  77% 4000/5166 [00:02<00:00, 1882.37 examples/s]\u001b[A\n",
            "Generating train split: 100% 5166/5166 [00:02<00:00, 1845.26 examples/s]\n",
            "Ditched 4 series\n",
            "Loaded 5162 series from solar_1h\n",
            "Loading datasets: 100% 4/4 [01:15<00:00, 18.91s/it]\n",
            "\n",
            "Total series loaded: 6808\n",
            "\n",
            "Generating 1000 KernelSynth time series...\n",
            "Generating KernelSynth data: 100% 1000/1000 [02:10<00:00,  7.67it/s]\n",
            "\n",
            "Generating 1000 TSMixup augmentations...\n",
            "Generating TSMixup data: 100% 1000/1000 [00:02<00:00, 404.77it/s]\n",
            "\n",
            "Saving datasets...\n"
          ]
        }
      ]
    },
    {
      "cell_type": "code",
      "source": [
        "!python3 chronos-forecasting/scripts/training/train_incremental.py --config data/configs/bob.yaml"
      ],
      "metadata": {
        "colab": {
          "base_uri": "https://localhost:8080/"
        },
        "id": "EQ3Qkai1kSYf",
        "outputId": "752aab2b-749f-43f7-aeb0-4aba358c8497"
      },
      "execution_count": 7,
      "outputs": [
        {
          "output_type": "stream",
          "name": "stdout",
          "text": [
            "The cache for model files in Transformers v4.22.0 has been updated. Migrating your old cache. This is a one-time only operation. You can interrupt this and resume the migration later on by calling `transformers.utils.move_cache()`.\n",
            "\r0it [00:00, ?it/s]\r0it [00:00, ?it/s]\n",
            "Traceback (most recent call last):\n",
            "  File \"/content/chronos-forecasting/scripts/training/train_incremental.py\", line 9, in <module>\n",
            "    from transformers import (\n",
            "  File \"<frozen importlib._bootstrap>\", line 1075, in _handle_fromlist\n",
            "  File \"/usr/local/lib/python3.10/dist-packages/transformers/utils/import_utils.py\", line 1766, in __getattr__\n",
            "    module = self._get_module(self._class_to_module[name])\n",
            "  File \"/usr/local/lib/python3.10/dist-packages/transformers/utils/import_utils.py\", line 1778, in _get_module\n",
            "    return importlib.import_module(\".\" + module_name, self.__name__)\n",
            "  File \"/usr/lib/python3.10/importlib/__init__.py\", line 126, in import_module\n",
            "    return _bootstrap._gcd_import(name[level:], package, level)\n",
            "  File \"/usr/local/lib/python3.10/dist-packages/transformers/trainer.py\", line 42, in <module>\n",
            "    from .integrations import (\n",
            "  File \"<frozen importlib._bootstrap>\", line 1075, in _handle_fromlist\n",
            "  File \"/usr/local/lib/python3.10/dist-packages/transformers/utils/import_utils.py\", line 1766, in __getattr__\n",
            "    module = self._get_module(self._class_to_module[name])\n",
            "  File \"/usr/local/lib/python3.10/dist-packages/transformers/utils/import_utils.py\", line 1778, in _get_module\n",
            "    return importlib.import_module(\".\" + module_name, self.__name__)\n",
            "  File \"/usr/lib/python3.10/importlib/__init__.py\", line 126, in import_module\n",
            "    return _bootstrap._gcd_import(name[level:], package, level)\n",
            "  File \"/usr/local/lib/python3.10/dist-packages/transformers/integrations/integration_utils.py\", line 36, in <module>\n",
            "    from .. import PreTrainedModel, TFPreTrainedModel\n",
            "  File \"<frozen importlib._bootstrap>\", line 1075, in _handle_fromlist\n",
            "  File \"/usr/local/lib/python3.10/dist-packages/transformers/utils/import_utils.py\", line 1766, in __getattr__\n",
            "    module = self._get_module(self._class_to_module[name])\n",
            "  File \"/usr/local/lib/python3.10/dist-packages/transformers/utils/import_utils.py\", line 1778, in _get_module\n",
            "    return importlib.import_module(\".\" + module_name, self.__name__)\n",
            "  File \"/usr/lib/python3.10/importlib/__init__.py\", line 126, in import_module\n",
            "    return _bootstrap._gcd_import(name[level:], package, level)\n",
            "  File \"/usr/local/lib/python3.10/dist-packages/transformers/modeling_utils.py\", line 48, in <module>\n",
            "    from .loss.loss_utils import LOSS_MAPPING\n",
            "  File \"/usr/local/lib/python3.10/dist-packages/transformers/loss/loss_utils.py\", line 19, in <module>\n",
            "    from .loss_deformable_detr import DeformableDetrForObjectDetectionLoss, DeformableDetrForSegmentationLoss\n",
            "  File \"/usr/local/lib/python3.10/dist-packages/transformers/loss/loss_deformable_detr.py\", line 4, in <module>\n",
            "    from ..image_transforms import center_to_corners_format\n",
            "  File \"/usr/local/lib/python3.10/dist-packages/transformers/image_transforms.py\", line 22, in <module>\n",
            "    from .image_utils import (\n",
            "  File \"/usr/local/lib/python3.10/dist-packages/transformers/image_utils.py\", line 58, in <module>\n",
            "    from torchvision.transforms import InterpolationMode\n",
            "  File \"/usr/local/lib/python3.10/dist-packages/torchvision/__init__.py\", line 10, in <module>\n",
            "    from torchvision import _meta_registrations, datasets, io, models, ops, transforms, utils  # usort:skip\n",
            "  File \"/usr/local/lib/python3.10/dist-packages/torchvision/models/__init__.py\", line 2, in <module>\n",
            "    from .convnext import *\n",
            "  File \"/usr/local/lib/python3.10/dist-packages/torchvision/models/convnext.py\", line 8, in <module>\n",
            "    from ..ops.misc import Conv2dNormActivation, Permute\n",
            "  File \"/usr/local/lib/python3.10/dist-packages/torchvision/ops/__init__.py\", line 23, in <module>\n",
            "    from .poolers import MultiScaleRoIAlign\n",
            "  File \"/usr/local/lib/python3.10/dist-packages/torchvision/ops/poolers.py\", line 10, in <module>\n",
            "    from .roi_align import roi_align\n",
            "  File \"/usr/local/lib/python3.10/dist-packages/torchvision/ops/roi_align.py\", line 7, in <module>\n",
            "    from torch._dynamo.utils import is_compile_supported\n",
            "  File \"/usr/local/lib/python3.10/dist-packages/torch/_dynamo/__init__.py\", line 3, in <module>\n",
            "    from . import convert_frame, eval_frame, resume_execution\n",
            "  File \"/usr/local/lib/python3.10/dist-packages/torch/_dynamo/convert_frame.py\", line 53, in <module>\n",
            "    from . import config, exc, trace_rules\n",
            "  File \"/usr/local/lib/python3.10/dist-packages/torch/_dynamo/trace_rules.py\", line 46, in <module>\n",
            "    from .variables import (\n",
            "  File \"/usr/local/lib/python3.10/dist-packages/torch/_dynamo/variables/__init__.py\", line 2, in <module>\n",
            "    from .builtin import BuiltinVariable\n",
            "  File \"/usr/local/lib/python3.10/dist-packages/torch/_dynamo/variables/builtin.py\", line 47, in <module>\n",
            "    from .ctx_manager import EventVariable, StreamVariable\n",
            "  File \"/usr/local/lib/python3.10/dist-packages/torch/_dynamo/variables/ctx_manager.py\", line 22, in <module>\n",
            "    from .functions import (\n",
            "  File \"/usr/local/lib/python3.10/dist-packages/torch/_dynamo/variables/functions.py\", line 31, in <module>\n",
            "    from torch.distributed._composable.fsdp import _fsdp_param_group\n",
            "  File \"/usr/local/lib/python3.10/dist-packages/torch/distributed/_composable/fsdp/__init__.py\", line 1, in <module>\n",
            "    from ._fsdp_api import CPUOffloadPolicy, MixedPrecisionPolicy, OffloadPolicy\n",
            "  File \"/usr/local/lib/python3.10/dist-packages/torch/distributed/_composable/fsdp/_fsdp_api.py\", line 9, in <module>\n",
            "    class MixedPrecisionPolicy:\n",
            "  File \"/usr/lib/python3.10/dataclasses.py\", line 1175, in wrap\n",
            "    return _process_class(cls, init, repr, eq, order, unsafe_hash,\n",
            "  File \"/usr/lib/python3.10/dataclasses.py\", line 1075, in _process_class\n",
            "    for fn in _frozen_get_del_attr(cls, field_list, globals):\n",
            "  File \"/usr/lib/python3.10/dataclasses.py\", line 606, in _frozen_get_del_attr\n",
            "    return (_create_fn('__setattr__',\n",
            "  File \"/usr/lib/python3.10/dataclasses.py\", line 432, in _create_fn\n",
            "    exec(txt, globals, ns)\n",
            "  File \"<string>\", line 1, in <module>\n",
            "KeyboardInterrupt\n"
          ]
        }
      ]
    },
    {
      "cell_type": "code",
      "source": [
        "def create_test_config(data_paths):\n",
        "    \"\"\"Create a minimal test configuration\"\"\"\n",
        "    config = {\n",
        "        \"training_data_paths\": data_paths,\n",
        "        \"probability\": [0.5, 0.5],  # Equal probability for both data sources\n",
        "        \"context_length\": 64,\n",
        "        \"prediction_length\": 16,\n",
        "        \"min_past\": 32,\n",
        "        \"max_steps\": 20,  # Small number of steps for testing\n",
        "        \"save_steps\": 5,\n",
        "        \"log_steps\": 2,\n",
        "        \"per_device_train_batch_size\": 2,\n",
        "        \"learning_rate\": 1e-4,\n",
        "        \"gradient_accumulation_steps\": 2,\n",
        "        \"model_id\": \"google/t5-efficient-tiny\",\n",
        "        \"model_type\": \"seq2seq\",\n",
        "        \"tokenizer_class\": \"MeanScaleUniformBins\",\n",
        "        \"tokenizer_kwargs\": {\"low_limit\": -15.0, \"high_limit\": 15.0},\n",
        "        \"n_tokens\": 4096,\n",
        "        \"n_special_tokens\": 2,\n",
        "        \"pad_token_id\": 0,\n",
        "        \"eos_token_id\": 1,\n",
        "        \"use_eos_token\": True,\n",
        "        \"num_samples\": 10,\n",
        "        \"temperature\": 1.0,\n",
        "        \"top_k\": 50,\n",
        "        \"top_p\": 1.0,\n",
        "        \"tf32\": False,  # Disable for testing\n",
        "        \"torch_compile\": False,  # Disable for testing\n",
        "    }\n",
        "    return config"
      ],
      "metadata": {
        "id": "xv5TWXB5Daou"
      },
      "execution_count": 9,
      "outputs": []
    },
    {
      "cell_type": "code",
      "source": [
        "import yaml\n",
        "# Create and save test config with both data sources\n",
        "tsmixup_path = \"/content/generated_datasets/kernelsynth_data.arrow\"\n",
        "kernelsynth_path = \"/content/generated_datasets/kernelsynth_data.arrow\"\n",
        "config = create_test_config([str(kernelsynth_path), str(tsmixup_path)])\n",
        "config['output_dir'] = str(\"output\")\n",
        "config_path = \"test_config.yaml\"\n",
        "\n",
        "with open(config_path, 'w') as f:\n",
        "  yaml.dump(config, f)\n",
        "  print(f\"Saved test config to {config_path}\")"
      ],
      "metadata": {
        "colab": {
          "base_uri": "https://localhost:8080/"
        },
        "id": "uONPsHmpEZEk",
        "outputId": "ba863d06-b733-4c6d-8392-a5f0e804f9de"
      },
      "execution_count": 10,
      "outputs": [
        {
          "output_type": "stream",
          "name": "stdout",
          "text": [
            "Saved test config to test_config.yaml\n"
          ]
        }
      ]
    },
    {
      "cell_type": "code",
      "source": [
        "!python chronos-forecasting/scripts/training/train_incremental.py \\\n",
        "    --config /content/test_config.yaml \\\n",
        "    --batch_size 500 \\\n",
        "    --batch_start 0 \\\n",
        "    --device_map \"cuda:0\""
      ],
      "metadata": {
        "colab": {
          "base_uri": "https://localhost:8080/"
        },
        "id": "febkcQhVcJT3",
        "outputId": "b0e9cdff-b9a2-49f9-8fcd-f4eaeecf45dd"
      },
      "execution_count": 11,
      "outputs": [
        {
          "output_type": "stream",
          "name": "stdout",
          "text": [
            "The cache for model files in Transformers v4.22.0 has been updated. Migrating your old cache. This is a one-time only operation. You can interrupt this and resume the migration later on by calling `transformers.utils.move_cache()`.\n",
            "\r0it [00:00, ?it/s]\r0it [00:00, ?it/s]\n",
            "2024-12-10 15:09:07.333301: E external/local_xla/xla/stream_executor/cuda/cuda_fft.cc:485] Unable to register cuFFT factory: Attempting to register factory for plugin cuFFT when one has already been registered\n",
            "2024-12-10 15:09:07.353207: E external/local_xla/xla/stream_executor/cuda/cuda_dnn.cc:8454] Unable to register cuDNN factory: Attempting to register factory for plugin cuDNN when one has already been registered\n",
            "2024-12-10 15:09:07.359071: E external/local_xla/xla/stream_executor/cuda/cuda_blas.cc:1452] Unable to register cuBLAS factory: Attempting to register factory for plugin cuBLAS when one has already been registered\n",
            "2024-12-10 15:09:07.373135: I tensorflow/core/platform/cpu_feature_guard.cc:210] This TensorFlow binary is optimized to use available CPU instructions in performance-critical operations.\n",
            "To enable the following instructions: AVX2 AVX512F FMA, in other operations, rebuild TensorFlow with the appropriate compiler flags.\n",
            "2024-12-10 15:09:08.999557: W tensorflow/compiler/tf2tensorrt/utils/py_utils.cc:38] TF-TRT Warning: Could not find TensorRT\n",
            "config.json: 100% 628/628 [00:00<00:00, 4.00MB/s]\n",
            "pytorch_model.bin: 100% 62.3M/62.3M [00:00<00:00, 69.3MB/s]\n",
            "generation_config.json: 100% 147/147 [00:00<00:00, 1.14MB/s]\n",
            "2024-12-10 15:09:15,526 - /content/chronos-forecasting/scripts/training/train_incremental.py - INFO - Training on 500 series from batch 0\n",
            "max_steps is given, it will override any value given in num_train_epochs\n",
            "  0% 0/20 [00:00<?, ?it/s]Passing a tuple of `past_key_values` is deprecated and will be removed in Transformers v4.48.0. You should pass an instance of `EncoderDecoderCache` instead, e.g. `past_key_values=EncoderDecoderCache.from_legacy_cache(past_key_values)`.\n",
            "{'loss': 16.4112, 'grad_norm': 103.41838836669922, 'learning_rate': 9e-05, 'epoch': 0.1}\n",
            "{'loss': 17.6001, 'grad_norm': 99.0793685913086, 'learning_rate': 8e-05, 'epoch': 0.2}\n",
            "{'loss': 14.412, 'grad_norm': 65.90105438232422, 'learning_rate': 7e-05, 'epoch': 0.3}\n",
            "{'loss': 14.8463, 'grad_norm': 58.87930679321289, 'learning_rate': 6e-05, 'epoch': 0.4}\n",
            "{'loss': 12.316, 'grad_norm': 59.3180046081543, 'learning_rate': 5e-05, 'epoch': 0.5}\n",
            "{'loss': 13.0048, 'grad_norm': 27.50875473022461, 'learning_rate': 4e-05, 'epoch': 0.6}\n",
            "{'loss': 12.3131, 'grad_norm': 60.918155670166016, 'learning_rate': 3e-05, 'epoch': 0.7}\n",
            "{'loss': 13.8139, 'grad_norm': 44.522727966308594, 'learning_rate': 2e-05, 'epoch': 0.8}\n",
            "{'loss': 15.8067, 'grad_norm': 45.72257995605469, 'learning_rate': 1e-05, 'epoch': 0.9}\n",
            "{'loss': 12.6604, 'grad_norm': 58.3570556640625, 'learning_rate': 0.0, 'epoch': 1.0}\n",
            "{'train_runtime': 7.6566, 'train_samples_per_second': 10.448, 'train_steps_per_second': 2.612, 'train_loss': 14.318441581726074, 'epoch': 1.0}\n",
            "100% 20/20 [00:07<00:00,  2.61it/s]\n",
            "2024-12-10 15:09:24,132 - /content/chronos-forecasting/scripts/training/train_incremental.py - INFO - Saved final checkpoint to output/batch_0/checkpoint-final-batch-0\n"
          ]
        }
      ]
    },
    {
      "cell_type": "code",
      "source": [
        "!python chronos-forecasting/scripts/training/train_incremental.py \\\n",
        "    --config /content/test_config.yaml \\\n",
        "    --checkpoint_path \"/content/output/batch_0/checkpoint-final-batch-0\" \\\n",
        "    --batch_size 500 \\\n",
        "    --batch_start 1 \\\n",
        "    --device_map \"cuda:0\""
      ],
      "metadata": {
        "colab": {
          "base_uri": "https://localhost:8080/"
        },
        "id": "tuZM67KYFl5a",
        "outputId": "dd327fa1-3ce4-47f0-cfad-709ad64dfb89"
      },
      "execution_count": 12,
      "outputs": [
        {
          "output_type": "stream",
          "name": "stdout",
          "text": [
            "2024-12-10 15:09:32.814338: E external/local_xla/xla/stream_executor/cuda/cuda_fft.cc:485] Unable to register cuFFT factory: Attempting to register factory for plugin cuFFT when one has already been registered\n",
            "2024-12-10 15:09:32.833265: E external/local_xla/xla/stream_executor/cuda/cuda_dnn.cc:8454] Unable to register cuDNN factory: Attempting to register factory for plugin cuDNN when one has already been registered\n",
            "2024-12-10 15:09:32.839156: E external/local_xla/xla/stream_executor/cuda/cuda_blas.cc:1452] Unable to register cuBLAS factory: Attempting to register factory for plugin cuBLAS when one has already been registered\n",
            "2024-12-10 15:09:32.852671: I tensorflow/core/platform/cpu_feature_guard.cc:210] This TensorFlow binary is optimized to use available CPU instructions in performance-critical operations.\n",
            "To enable the following instructions: AVX2 AVX512F FMA, in other operations, rebuild TensorFlow with the appropriate compiler flags.\n",
            "2024-12-10 15:09:34.473783: W tensorflow/compiler/tf2tensorrt/utils/py_utils.cc:38] TF-TRT Warning: Could not find TensorRT\n",
            "2024-12-10 15:09:37,821 - /content/chronos-forecasting/scripts/training/train_incremental.py - INFO - Training on 500 series from batch 1\n",
            "max_steps is given, it will override any value given in num_train_epochs\n",
            "  0% 0/20 [00:00<?, ?it/s]Passing a tuple of `past_key_values` is deprecated and will be removed in Transformers v4.48.0. You should pass an instance of `EncoderDecoderCache` instead, e.g. `past_key_values=EncoderDecoderCache.from_legacy_cache(past_key_values)`.\n",
            "{'loss': 10.3631, 'grad_norm': 35.651920318603516, 'learning_rate': 9e-05, 'epoch': 0.1}\n",
            "{'loss': 12.7166, 'grad_norm': 36.82169723510742, 'learning_rate': 8e-05, 'epoch': 0.2}\n",
            "{'loss': 14.7162, 'grad_norm': 60.9975471496582, 'learning_rate': 7e-05, 'epoch': 0.3}\n",
            "{'loss': 10.4089, 'grad_norm': 41.66234588623047, 'learning_rate': 6e-05, 'epoch': 0.4}\n",
            "{'loss': 9.1552, 'grad_norm': 31.957542419433594, 'learning_rate': 5e-05, 'epoch': 0.5}\n",
            "{'loss': 10.2875, 'grad_norm': 25.84596824645996, 'learning_rate': 4e-05, 'epoch': 0.6}\n",
            "{'loss': 12.9539, 'grad_norm': 34.59502029418945, 'learning_rate': 3e-05, 'epoch': 0.7}\n",
            "{'loss': 11.556, 'grad_norm': 20.879253387451172, 'learning_rate': 2e-05, 'epoch': 0.8}\n",
            "{'loss': 14.7505, 'grad_norm': 31.43758773803711, 'learning_rate': 1e-05, 'epoch': 0.9}\n",
            "{'loss': 9.0613, 'grad_norm': 58.5040397644043, 'learning_rate': 0.0, 'epoch': 1.0}\n",
            "{'train_runtime': 8.8158, 'train_samples_per_second': 9.075, 'train_steps_per_second': 2.269, 'train_loss': 11.596922397613525, 'epoch': 1.0}\n",
            "100% 20/20 [00:08<00:00,  2.27it/s]\n",
            "2024-12-10 15:09:47,284 - /content/chronos-forecasting/scripts/training/train_incremental.py - INFO - Saved final checkpoint to output/batch_1/checkpoint-final-batch-1\n"
          ]
        }
      ]
    }
  ]
}